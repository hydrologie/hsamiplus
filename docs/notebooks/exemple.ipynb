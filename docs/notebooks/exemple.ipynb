{
  "cells": [
    {
      "cell_type": "code",
      "execution_count": 84,
      "metadata": {},
      "outputs": [
        {
          "name": "stdout",
          "output_type": "stream",
          "text": [
            "The autoreload extension is already loaded. To reload it, use:\n",
            "  %reload_ext autoreload\n"
          ]
        }
      ],
      "source": [
        "%load_ext autoreload\n",
        "%autoreload 2"
      ]
    },
    {
      "cell_type": "markdown",
      "metadata": {},
      "source": [
        "# Exemple de préparation de projet\n"
      ]
    },
    {
      "cell_type": "markdown",
      "metadata": {},
      "source": [
        "## Fichiers de configurations et formats\n",
        "### information sur le bassin versant \n",
        "- [ ] Décrire le format, ce qui est optionel et ce qui est nécéssaire, à quoi correspondent les valeurs et les unités\n",
        "### meteo_file.csv\n",
        "Ce fichier se trouve référencer dans le fichier d'information sur le bassin versant\n",
        "- [ ] Décrire le format, ce qui est optionel et ce qui est nécéssaire, à quoi correspondent les valeurs et les unités\n",
        "### parametres.txt\n",
        "Ce fichier contient les valeurs par défaut et les bornes pour la calibration\n",
        "- [ ] Je crois que pour l'instant, les bornes ne sont pas utilisées. Valider l'utilisation de ce fichier. Ce devra potentillement être modifié pour être compatible avec spotpy...\n"
      ]
    },
    {
      "cell_type": "code",
      "execution_count": 85,
      "metadata": {},
      "outputs": [],
      "source": [
        "import hsamiplus\n",
        "import os"
      ]
    },
    {
      "cell_type": "code",
      "execution_count": 74,
      "metadata": {},
      "outputs": [],
      "source": [
        "# Dossier où se trouvent les fichiers\n",
        "data_dir = os.path.join('..','..', 'data')\n",
        "# Fichier informations\n",
        "basin_file = os.path.join(data_dir, 'bassin_versant_info.txt')\n",
        "\n",
        "#Fichier paramètres\n",
        "param_file = os.path.join(data_dir, 'parametres.txt')\n",
        "\n",
        "# Données météos\n",
        "projet_file = os.path.join(data_dir, '5_ans.json')"
      ]
    },
    {
      "cell_type": "markdown",
      "metadata": {},
      "source": [
        "## Création d'un fichier de projet\n",
        "Hsami+ a besoin d'un dictionnaire contenant les données pour effectuer une simulations.\n",
        " \n",
        "La fonction 'make_project' permet de créer un fichier json à partir des différents fichiers de configurations."
      ]
    },
    {
      "cell_type": "code",
      "execution_count": 86,
      "metadata": {},
      "outputs": [
        {
          "name": "stdout",
          "output_type": "stream",
          "text": [
            "Le fichier de projet HSAMI ..\\..\\data\\5_ans.json a été créé !\n"
          ]
        },
        {
          "name": "stderr",
          "output_type": "stream",
          "text": [
            "C:\\Python\\hsamiplus\\src\\hsamiplus\\hsami_input.py:204: FutureWarning: The 'delim_whitespace' keyword in pd.read_csv is deprecated and will be removed in a future version. Use ``sep='\\s+'`` instead\n",
            "  df_param = pd.read_csv(param_file, header=0, delim_whitespace=True)\n"
          ]
        }
      ],
      "source": [
        "hsamiplus.make_project(data_dir, basin_file, param_file, projet_file)"
      ]
    },
    {
      "cell_type": "markdown",
      "metadata": {},
      "source": [
        "# Utilisaion d'un fichier de projet\n",
        "Lorsqu'un fichier 'json' de projet est disponbile, on peut utiliser la fonction 'hsamibin' pour effectuer une simulation. Cette fonction retourne ... "
      ]
    },
    {
      "cell_type": "code",
      "execution_count": 76,
      "metadata": {},
      "outputs": [],
      "source": [
        "simulation, etats, deltas = hsamiplus.hsamibin(data_dir, '5_ans.json')"
      ]
    },
    {
      "cell_type": "markdown",
      "metadata": {},
      "source": [
        "# Simulation avec les données en mémoire\n",
        "La simulation avec le fichier de projet implique la lecture du fichier de projet et l'écriture des résultats. Dans le cas de la calibration, l'on veut éviter ces étapes de lectures / écriture. Lorsque les données sont chargées en mémoire dans un dictionaire, on peut donc utiliser 'hsami2' pour effectuer la simulation.\n"
      ]
    },
    {
      "cell_type": "code",
      "execution_count": 77,
      "metadata": {},
      "outputs": [],
      "source": [
        "import json\n",
        "from pathlib import Path\n",
        " \n",
        "filename = '5_ans.json'\n",
        "with Path.open(Path(data_dir) / filename) as file:\n",
        "    projet = json.load(file)"
      ]
    },
    {
      "cell_type": "code",
      "execution_count": 78,
      "metadata": {},
      "outputs": [],
      "source": [
        "simulation, etats, deltas = hsamiplus.hsami2(projet)"
      ]
    },
    {
      "cell_type": "code",
      "execution_count": 83,
      "metadata": {},
      "outputs": [
        {
          "name": "stdout",
          "output_type": "stream",
          "text": [
            "Thu Dec 19 22:48:27 2024    profile_results\n",
            "\n",
            "         2130024 function calls in 2.980 seconds\n",
            "\n",
            "   Ordered by: internal time\n",
            "\n",
            "   ncalls  tottime  percall  cumtime  percall filename:lineno(function)\n",
            "     2556    0.707    0.000    0.709    0.000 C:\\Python\\hsamiplus\\src\\hsamiplus\\hsami_interception.py:180(dj_hsami)\n",
            "     2556    0.258    0.000    0.571    0.000 C:\\Python\\hsamiplus\\src\\hsamiplus\\hsami_ecoulement_vertical.py:217(ecoulement_3couches)\n",
            "    50755    0.191    0.000    0.257    0.000 c:\\Users\\PM217776\\miniconda3\\envs\\hsamiplus\\Lib\\site-packages\\numpy\\lib\\_nanfunctions_impl.py:70(_replace_nan)\n",
            "      882    0.187    0.000    0.233    0.000 c:\\Users\\PM217776\\miniconda3\\envs\\hsamiplus\\Lib\\site-packages\\scipy\\optimize\\_optimize.py:2226(_minimize_scalar_bounded)\n",
            "   104431    0.180    0.000    0.180    0.000 {method 'reduce' of 'numpy.ufunc' objects}\n",
            "   104431    0.116    0.000    0.338    0.000 c:\\Users\\PM217776\\miniconda3\\envs\\hsamiplus\\Lib\\site-packages\\numpy\\_core\\fromnumeric.py:69(_wrapreduction)\n",
            "   104431    0.084    0.000    0.439    0.000 c:\\Users\\PM217776\\miniconda3\\envs\\hsamiplus\\Lib\\site-packages\\numpy\\_core\\fromnumeric.py:2255(sum)\n",
            "     2556    0.081    0.000    1.262    0.000 C:\\Python\\hsamiplus\\src\\hsamiplus\\hsami2_noyau.py:560(ruissellement_ecoulement)\n",
            "    20719    0.078    0.000    0.078    0.000 {method 'round' of 'numpy.generic' objects}\n",
            "     5112    0.069    0.000    0.206    0.000 C:\\Python\\hsamiplus\\src\\hsamiplus\\hsami_hydrogramme.py:8(hsami_hydrogramme)\n",
            "     2556    0.064    0.000    0.274    0.000 C:\\Python\\hsamiplus\\src\\hsamiplus\\hsami2_noyau.py:819(bilan_sorties)\n",
            "        1    0.058    0.058    2.578    2.578 C:\\Python\\hsamiplus\\src\\hsamiplus\\hsami2.py:342(hsami_simulation)\n",
            "   251315    0.055    0.000    0.055    0.000 {built-in method builtins.min}\n",
            "    68648    0.054    0.000    0.054    0.000 {built-in method numpy.array}\n",
            "    50755    0.052    0.000    0.513    0.000 c:\\Users\\PM217776\\miniconda3\\envs\\hsamiplus\\Lib\\site-packages\\numpy\\lib\\_nanfunctions_impl.py:640(nansum)\n",
            "     2556    0.050    0.000    1.188    0.000 C:\\Python\\hsamiplus\\src\\hsamiplus\\hsami2_noyau.py:392(etp_glace_interception)\n",
            "    10224    0.049    0.000    0.087    0.000 c:\\Users\\PM217776\\miniconda3\\envs\\hsamiplus\\Lib\\site-packages\\numpy\\lib\\_shape_base_impl.py:1197(tile)\n",
            "     5112    0.049    0.000    0.049    0.000 C:\\Python\\hsamiplus\\src\\hsamiplus\\hsami_etp.py:741(etp_rayonnement_et)\n",
            "     2556    0.037    0.000    0.088    0.000 C:\\Python\\hsamiplus\\src\\hsamiplus\\hsami_mhumide.py:8(hsami_mhumide)\n",
            "     5112    0.036    0.000    0.177    0.000 C:\\Python\\hsamiplus\\src\\hsamiplus\\hsami_etp.py:8(hsami_etp)\n",
            "    20464    0.033    0.000    0.038    0.000 C:\\Python\\hsamiplus\\src\\hsamiplus\\hsami_ecoulement_vertical.py:574(fctobj)\n",
            "     2556    0.030    0.000    2.858    0.001 C:\\Python\\hsamiplus\\src\\hsamiplus\\hsami2_noyau.py:20(hsami2_noyau)\n",
            "     2556    0.026    0.000    0.035    0.000 C:\\Python\\hsamiplus\\src\\hsamiplus\\hsami_ecoulement_horizontal.py:8(hsami_ecoulement_horizontal)\n",
            "   173893    0.026    0.000    0.026    0.000 {built-in method builtins.isinstance}\n",
            "    50849    0.020    0.000    0.020    0.000 {built-in method builtins.getattr}\n",
            "   104432    0.019    0.000    0.019    0.000 {method 'items' of 'dict' objects}\n",
            "    67013    0.019    0.000    0.019    0.000 {built-in method builtins.max}\n",
            "     2556    0.018    0.000    0.018    0.000 {method 'strftime' of 'datetime.date' objects}\n",
            "    60979    0.018    0.000    0.018    0.000 {built-in method numpy.asanyarray}\n",
            "    28116    0.017    0.000    0.118    0.000 c:\\Users\\PM217776\\miniconda3\\envs\\hsamiplus\\Lib\\site-packages\\numpy\\_core\\fromnumeric.py:51(_wrapfunc)\n",
            "   112471    0.016    0.000    0.016    0.000 {method 'append' of 'list' objects}\n",
            "     2556    0.014    0.000    0.021    0.000 c:\\Users\\PM217776\\miniconda3\\envs\\hsamiplus\\Lib\\site-packages\\numpy\\lib\\_function_base_impl.py:5766(append)\n",
            "     5112    0.014    0.000    0.020    0.000 C:\\Python\\hsamiplus\\src\\hsamiplus\\hsami_etp.py:674(etp_duree_jour)\n",
            "     5112    0.013    0.000    0.019    0.000 C:\\Python\\hsamiplus\\src\\hsamiplus\\hsami_etp.py:909(etp_rayonnement_net)\n",
            "    15336    0.013    0.000    0.013    0.000 {method 'repeat' of 'numpy.ndarray' objects}\n",
            "     2556    0.013    0.000    0.020    0.000 c:\\Users\\PM217776\\miniconda3\\envs\\hsamiplus\\Lib\\site-packages\\numpy\\_core\\shape_base.py:219(vstack)\n",
            "    25560    0.012    0.000    0.012    0.000 {method 'reshape' of 'numpy.ndarray' objects}\n",
            "    23004    0.011    0.000    0.120    0.000 c:\\Users\\PM217776\\miniconda3\\envs\\hsamiplus\\Lib\\site-packages\\numpy\\_core\\fromnumeric.py:3360(round)\n",
            "    10224    0.010    0.000    0.010    0.000 C:\\Python\\hsamiplus\\src\\hsamiplus\\hsami_etp.py:860(etp_e)\n",
            "   104431    0.009    0.000    0.009    0.000 c:\\Users\\PM217776\\miniconda3\\envs\\hsamiplus\\Lib\\site-packages\\numpy\\_core\\fromnumeric.py:2250(_sum_dispatcher)\n",
            "     2556    0.009    0.000    0.721    0.000 C:\\Python\\hsamiplus\\src\\hsamiplus\\hsami_interception.py:8(hsami_interception)\n",
            "     5112    0.007    0.000    0.016    0.000 {method 'sum' of 'numpy.generic' objects}\n",
            "     5112    0.007    0.000    0.007    0.000 {built-in method numpy.arange}\n",
            "     2285    0.007    0.000    0.007    0.000 {method 'round' of 'numpy.ndarray' objects}\n",
            "     5112    0.006    0.000    0.026    0.000 C:\\Python\\hsamiplus\\src\\hsamiplus\\hsami_etp.py:784(etp_rayonnement_g)\n",
            "    50755    0.006    0.000    0.006    0.000 {built-in method builtins.issubclass}\n",
            "     5112    0.006    0.000    0.006    0.000 C:\\Python\\hsamiplus\\src\\hsamiplus\\hsami_etp.py:698(etp_declinaison)\n",
            "    61392    0.006    0.000    0.006    0.000 {built-in method builtins.abs}\n",
            "     4320    0.006    0.000    0.008    0.000 c:\\Users\\PM217776\\miniconda3\\envs\\hsamiplus\\Lib\\site-packages\\numpy\\_core\\fromnumeric.py:3309(size)\n",
            "    50755    0.005    0.000    0.005    0.000 c:\\Users\\PM217776\\miniconda3\\envs\\hsamiplus\\Lib\\site-packages\\numpy\\_core\\multiarray.py:1089(copyto)\n",
            "    50755    0.005    0.000    0.005    0.000 c:\\Users\\PM217776\\miniconda3\\envs\\hsamiplus\\Lib\\site-packages\\numpy\\lib\\_nanfunctions_impl.py:635(_nansum_dispatcher)\n",
            "    33165    0.005    0.000    0.005    0.000 {built-in method builtins.len}\n",
            "    20448    0.005    0.000    0.005    0.000 c:\\Users\\PM217776\\miniconda3\\envs\\hsamiplus\\Lib\\site-packages\\numpy\\lib\\_shape_base_impl.py:1269(<genexpr>)\n",
            "    30672    0.005    0.000    0.005    0.000 c:\\Users\\PM217776\\miniconda3\\envs\\hsamiplus\\Lib\\site-packages\\numpy\\lib\\_shape_base_impl.py:1279(<genexpr>)\n",
            "     2556    0.005    0.000    0.007    0.000 c:\\Users\\PM217776\\miniconda3\\envs\\hsamiplus\\Lib\\site-packages\\numpy\\_core\\shape_base.py:81(atleast_2d)\n",
            "     2285    0.004    0.000    0.014    0.000 c:\\Users\\PM217776\\miniconda3\\envs\\hsamiplus\\Lib\\site-packages\\numpy\\_core\\fromnumeric.py:41(_wrapit)\n",
            "     1764    0.004    0.000    0.007    0.000 c:\\Users\\PM217776\\miniconda3\\envs\\hsamiplus\\Lib\\site-packages\\scipy\\optimize\\_optimize.py:181(is_finite_scalar)\n",
            "    10224    0.004    0.000    0.004    0.000 {method 'transpose' of 'numpy.ndarray' objects}\n",
            "     5112    0.004    0.000    0.008    0.000 C:\\Python\\hsamiplus\\src\\hsamiplus\\hsami_etp.py:832(etp_m_courbe_pression)\n",
            "     2556    0.004    0.000    0.004    0.000 C:\\Python\\hsamiplus\\src\\hsamiplus\\hsami_glace.py:8(hsami_glace)\n",
            "        1    0.003    0.003    2.979    2.979 <string>:1(<module>)\n",
            "     2556    0.003    0.000    0.575    0.000 C:\\Python\\hsamiplus\\src\\hsamiplus\\hsami_ecoulement_vertical.py:9(hsami_ecoulement_vertical)\n",
            "    10224    0.003    0.000    0.005    0.000 {built-in method builtins.all}\n",
            "     7670    0.003    0.000    0.003    0.000 {built-in method numpy.zeros}\n",
            "     5112    0.003    0.000    0.003    0.000 C:\\Python\\hsamiplus\\src\\hsamiplus\\hsami_etp.py:609(etp_priestley_taylor)\n",
            "      882    0.003    0.000    0.239    0.000 C:\\Python\\hsamiplus\\src\\hsamiplus\\hsami_ecoulement_vertical.py:517(green_ampt)\n",
            "    11834    0.003    0.000    0.003    0.000 {method 'keys' of 'dict' objects}\n",
            "     5112    0.003    0.000    0.011    0.000 c:\\Users\\PM217776\\miniconda3\\envs\\hsamiplus\\Lib\\site-packages\\numpy\\_core\\fromnumeric.py:437(repeat)\n",
            "     3438    0.003    0.000    0.003    0.000 {built-in method numpy.asarray}\n",
            "      882    0.002    0.000    0.235    0.000 c:\\Users\\PM217776\\miniconda3\\envs\\hsamiplus\\Lib\\site-packages\\scipy\\optimize\\_optimize.py:2135(fminbound)\n",
            "    23004    0.002    0.000    0.002    0.000 c:\\Users\\PM217776\\miniconda3\\envs\\hsamiplus\\Lib\\site-packages\\numpy\\_core\\fromnumeric.py:3356(_round_dispatcher)\n",
            "     2556    0.002    0.000    0.004    0.000 c:\\Users\\PM217776\\miniconda3\\envs\\hsamiplus\\Lib\\copy.py:61(copy)\n",
            "     2556    0.002    0.000    0.005    0.000 c:\\Users\\PM217776\\miniconda3\\envs\\hsamiplus\\Lib\\site-packages\\numpy\\_core\\fromnumeric.py:1846(ravel)\n",
            "     2191    0.002    0.000    0.002    0.000 {method 'tolist' of 'numpy.generic' objects}\n",
            "     2191    0.002    0.000    0.002    0.000 {method 'tolist' of 'numpy.ndarray' objects}\n",
            "     5112    0.002    0.000    0.009    0.000 c:\\Users\\PM217776\\miniconda3\\envs\\hsamiplus\\Lib\\site-packages\\numpy\\_core\\_methods.py:50(_sum)\n",
            "        1    0.002    0.002    0.398    0.398 C:\\Python\\hsamiplus\\src\\hsamiplus\\hsami2.py:277(hsami_etat_initial)\n",
            "     2556    0.002    0.000    0.002    0.000 {method 'ravel' of 'numpy.ndarray' objects}\n",
            "     5998    0.002    0.000    0.002    0.000 {method 'get' of 'dict' objects}\n",
            "     2556    0.001    0.000    0.001    0.000 {method 'copy' of 'numpy.ndarray' objects}\n",
            "    10224    0.001    0.000    0.001    0.000 c:\\Users\\PM217776\\miniconda3\\envs\\hsamiplus\\Lib\\site-packages\\numpy\\lib\\_shape_base_impl.py:1193(_tile_dispatcher)\n",
            "     5112    0.001    0.000    0.001    0.000 C:\\Python\\hsamiplus\\src\\hsamiplus\\hsami_etp.py:958(etp_rayonnement_temps_clair)\n",
            "     2556    0.001    0.000    0.002    0.000 c:\\Users\\PM217776\\miniconda3\\envs\\hsamiplus\\Lib\\site-packages\\numpy\\_core\\shape_base.py:207(_arrays_for_stack_dispatcher)\n",
            "     5112    0.001    0.000    0.001    0.000 C:\\Python\\hsamiplus\\src\\hsamiplus\\hsami_etp.py:882(etp_chaleur_lat_vaporisation)\n",
            "     2556    0.001    0.000    0.001    0.000 C:\\Python\\hsamiplus\\src\\hsamiplus\\hsami_ruissellement_surface.py:6(hsami_ruissellement_surface)\n",
            "     2556    0.001    0.000    0.003    0.000 c:\\Users\\PM217776\\miniconda3\\envs\\hsamiplus\\Lib\\site-packages\\numpy\\_core\\shape_base.py:215(_vhstack_dispatcher)\n",
            "     2285    0.001    0.000    0.001    0.000 {method 'as_arrays' of 'numpy._core._multiarray_umath._array_converter' objects}\n",
            "     2561    0.001    0.000    0.001    0.000 {built-in method builtins.hasattr}\n",
            "     2285    0.001    0.000    0.001    0.000 {method 'wrap' of 'numpy._core._multiarray_umath._array_converter' objects}\n",
            "     2556    0.001    0.000    0.001    0.000 {method 'copy' of 'dict' objects}\n",
            "       74    0.001    0.000    0.001    0.000 c:\\Users\\PM217776\\miniconda3\\envs\\hsamiplus\\Lib\\site-packages\\ipykernel\\ipkernel.py:775(_clean_thread_parent_frames)\n",
            "      737    0.001    0.000    0.001    0.000 C:\\Python\\hsamiplus\\src\\hsamiplus\\hsami_interception.py:1662(gel_sol)\n",
            "     5112    0.001    0.000    0.001    0.000 c:\\Users\\PM217776\\miniconda3\\envs\\hsamiplus\\Lib\\site-packages\\numpy\\_core\\multiarray.py:161(concatenate)\n",
            "     5112    0.001    0.000    0.001    0.000 c:\\Users\\PM217776\\miniconda3\\envs\\hsamiplus\\Lib\\site-packages\\numpy\\_core\\fromnumeric.py:433(_repeat_dispatcher)\n",
            "     4320    0.000    0.000    0.000    0.000 c:\\Users\\PM217776\\miniconda3\\envs\\hsamiplus\\Lib\\site-packages\\numpy\\_core\\fromnumeric.py:3305(_size_dispatcher)\n",
            "      608    0.000    0.000    0.000    0.000 C:\\Python\\hsamiplus\\src\\hsamiplus\\hsami_interception.py:1790(percolation_eau_fonte)\n",
            "      730    0.000    0.000    0.000    0.000 C:\\Python\\hsamiplus\\src\\hsamiplus\\hsami_interception.py:1752(gel_neige)\n",
            "     2556    0.000    0.000    0.000    0.000 c:\\Users\\PM217776\\miniconda3\\envs\\hsamiplus\\Lib\\site-packages\\numpy\\lib\\_function_base_impl.py:5762(_append_dispatcher)\n",
            "     2556    0.000    0.000    0.000    0.000 c:\\Users\\PM217776\\miniconda3\\envs\\hsamiplus\\Lib\\site-packages\\numpy\\_core\\fromnumeric.py:1842(_ravel_dispatcher)\n",
            "       37    0.000    0.000    0.000    0.000 c:\\Users\\PM217776\\miniconda3\\envs\\hsamiplus\\Lib\\threading.py:1535(enumerate)\n",
            "      259    0.000    0.000    0.000    0.000 c:\\Users\\PM217776\\miniconda3\\envs\\hsamiplus\\Lib\\threading.py:1198(ident)\n",
            "     2556    0.000    0.000    0.000    0.000 c:\\Users\\PM217776\\miniconda3\\envs\\hsamiplus\\Lib\\site-packages\\numpy\\_core\\shape_base.py:77(_atleast_2d_dispatcher)\n",
            "      882    0.000    0.000    0.000    0.000 c:\\Users\\PM217776\\miniconda3\\envs\\hsamiplus\\Lib\\site-packages\\scipy\\optimize\\_optimize.py:3579(_endprint)\n",
            "      882    0.000    0.000    0.000    0.000 c:\\Users\\PM217776\\miniconda3\\envs\\hsamiplus\\Lib\\site-packages\\scipy\\optimize\\_optimize.py:172(_check_unknown_options)\n",
            "      101    0.000    0.000    0.000    0.000 C:\\Python\\hsamiplus\\src\\hsamiplus\\hsami_interception.py:1705(degel_sol)\n",
            "        1    0.000    0.000    0.000    0.000 {method 'disable' of '_lsprof.Profiler' objects}\n",
            "        2    0.000    0.000    0.000    0.000 c:\\Users\\PM217776\\miniconda3\\envs\\hsamiplus\\Lib\\site-packages\\traitlets\\traitlets.py:3631(set)\n",
            "        1    0.000    0.000    0.000    0.000 c:\\Users\\PM217776\\miniconda3\\envs\\hsamiplus\\Lib\\site-packages\\traitlets\\traitlets.py:1527(_notify_observers)\n",
            "       74    0.000    0.000    0.000    0.000 {method 'values' of 'dict' objects}\n",
            "        2    0.000    0.000    0.000    0.000 c:\\Users\\PM217776\\miniconda3\\envs\\hsamiplus\\Lib\\site-packages\\traitlets\\traitlets.py:689(set)\n",
            "        2    0.000    0.000    0.000    0.000 c:\\Users\\PM217776\\miniconda3\\envs\\hsamiplus\\Lib\\site-packages\\traitlets\\traitlets.py:2304(validate)\n",
            "        2    0.000    0.000    0.000    0.000 c:\\Users\\PM217776\\miniconda3\\envs\\hsamiplus\\Lib\\site-packages\\traitlets\\traitlets.py:3474(validate)\n",
            "        2    0.000    0.000    0.000    0.000 c:\\Users\\PM217776\\miniconda3\\envs\\hsamiplus\\Lib\\site-packages\\traitlets\\traitlets.py:718(_validate)\n",
            "       37    0.000    0.000    0.000    0.000 {method '__exit__' of '_thread.RLock' objects}\n",
            "        1    0.000    0.000    0.000    0.000 c:\\Users\\PM217776\\miniconda3\\envs\\hsamiplus\\Lib\\site-packages\\traitlets\\traitlets.py:1512(_notify_trait)\n",
            "        2    0.000    0.000    0.000    0.000 {method '__exit__' of 'sqlite3.Connection' objects}\n",
            "        2    0.000    0.000    0.000    0.000 c:\\Users\\PM217776\\miniconda3\\envs\\hsamiplus\\Lib\\site-packages\\traitlets\\traitlets.py:727(_cross_validate)\n",
            "        1    0.000    0.000    0.000    0.000 c:\\Users\\PM217776\\miniconda3\\envs\\hsamiplus\\Lib\\site-packages\\IPython\\core\\history.py:830(_writeout_output_cache)\n",
            "        2    0.000    0.000    0.000    0.000 c:\\Users\\PM217776\\miniconda3\\envs\\hsamiplus\\Lib\\site-packages\\traitlets\\traitlets.py:3624(validate_elements)\n",
            "        2    0.000    0.000    0.000    0.000 c:\\Users\\PM217776\\miniconda3\\envs\\hsamiplus\\Lib\\site-packages\\traitlets\\traitlets.py:708(__set__)\n",
            "        1    0.000    0.000    0.000    0.000 {built-in method _thread.allocate_lock}\n",
            "        1    0.000    0.000    0.000    0.000 C:\\Python\\hsamiplus\\src\\hsamiplus\\hsami2.py:251(modules_par_defaut)\n",
            "        1    0.000    0.000    2.976    2.976 C:\\Python\\hsamiplus\\src\\hsamiplus\\hsami2.py:12(hsami2)\n",
            "        1    0.000    0.000    0.000    0.000 c:\\Users\\PM217776\\miniconda3\\envs\\hsamiplus\\Lib\\site-packages\\traitlets\\traitlets.py:1523(notify_change)\n",
            "        2    0.000    0.000    0.000    0.000 c:\\Users\\PM217776\\miniconda3\\envs\\hsamiplus\\Lib\\site-packages\\traitlets\\traitlets.py:676(__get__)\n",
            "        2    0.000    0.000    0.000    0.000 c:\\Users\\PM217776\\miniconda3\\envs\\hsamiplus\\Lib\\site-packages\\traitlets\\traitlets.py:629(get)\n",
            "        1    0.000    0.000    0.000    0.000 c:\\Users\\PM217776\\miniconda3\\envs\\hsamiplus\\Lib\\threading.py:314(_is_owned)\n",
            "       10    0.000    0.000    0.000    0.000 C:\\Python\\hsamiplus\\src\\hsamiplus\\hsami2.py:234(set_default_module)\n",
            "        1    0.000    0.000    0.000    0.000 c:\\Users\\PM217776\\miniconda3\\envs\\hsamiplus\\Lib\\threading.py:299(__enter__)\n",
            "       14    0.000    0.000    0.000    0.000 c:\\Users\\PM217776\\miniconda3\\envs\\hsamiplus\\Lib\\typing.py:2183(cast)\n",
            "        2    0.000    0.000    0.000    0.000 c:\\Users\\PM217776\\miniconda3\\envs\\hsamiplus\\Lib\\site-packages\\traitlets\\traitlets.py:3486(validate_elements)\n",
            "        1    0.000    0.000    0.000    0.000 c:\\Users\\PM217776\\miniconda3\\envs\\hsamiplus\\Lib\\threading.py:308(_release_save)\n",
            "        2    0.000    0.000    0.000    0.000 {method '__exit__' of '_thread.lock' objects}\n",
            "        2    0.000    0.000    0.000    0.000 {method 'acquire' of '_thread.lock' objects}\n",
            "        1    0.000    0.000    0.000    0.000 {method 'append' of 'collections.deque' objects}\n",
            "        1    0.000    0.000    0.000    0.000 {method '__enter__' of '_thread.lock' objects}\n",
            "        2    0.000    0.000    0.000    0.000 {method 'extend' of 'list' objects}\n",
            "        1    0.000    0.000    0.000    0.000 {method 'release' of '_thread.lock' objects}\n",
            "\n",
            "\n"
          ]
        },
        {
          "data": {
            "text/plain": [
              "<pstats.Stats at 0x220a8538d40>"
            ]
          },
          "execution_count": 83,
          "metadata": {},
          "output_type": "execute_result"
        }
      ],
      "source": [
        "import cProfile\n",
        "import pstats\n",
        "\n",
        "cProfile.run('hsamiplus.hsami2(projet)', 'profile_results')\n",
        "stats = pstats.Stats('profile_results')\n",
        "stats.sort_stats('tottime').print_stats()"
      ]
    },
    {
      "cell_type": "code",
      "execution_count": null,
      "metadata": {},
      "outputs": [],
      "source": []
    }
  ],
  "metadata": {
    "kernelspec": {
      "display_name": "hsamiplus",
      "language": "python",
      "name": "python3"
    },
    "language_info": {
      "codemirror_mode": {
        "name": "ipython",
        "version": 3
      },
      "file_extension": ".py",
      "mimetype": "text/x-python",
      "name": "python",
      "nbconvert_exporter": "python",
      "pygments_lexer": "ipython3",
      "version": "3.12.8"
    }
  },
  "nbformat": 4,
  "nbformat_minor": 2
}
