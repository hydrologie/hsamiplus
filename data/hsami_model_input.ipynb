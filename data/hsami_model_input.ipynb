{
 "cells": [
  {
   "cell_type": "code",
   "execution_count": 3,
   "metadata": {},
   "outputs": [],
   "source": [
    "import pandas as pd\n",
    "from pathlib import Path\n",
    "import numpy as np\n",
    "import json\n",
    "import os\n",
    "import re\n",
    "import matplotlib.pyplot as plt"
   ]
  },
  {
   "cell_type": "code",
   "execution_count": 4,
   "metadata": {},
   "outputs": [],
   "source": [
    "from datetime import datetime"
   ]
  },
  {
   "cell_type": "markdown",
   "metadata": {},
   "source": [
    "## Fichiers"
   ]
  },
  {
   "cell_type": "code",
   "execution_count": 5,
   "metadata": {},
   "outputs": [],
   "source": [
    "data_dir = Path.cwd()\n",
    "basin_file = \"bassin_versant_info.txt\"\n",
    "param_file = \"parametres.txt\"\n",
    "meteo_file = \"meteo_file.csv\""
   ]
  },
  {
   "cell_type": "code",
   "execution_count": null,
   "metadata": {},
   "outputs": [],
   "source": []
  },
  {
   "cell_type": "markdown",
   "metadata": {},
   "source": [
    "## Bassin versant"
   ]
  },
  {
   "cell_type": "code",
   "execution_count": 6,
   "metadata": {},
   "outputs": [
    {
     "name": "stdout",
     "output_type": "stream",
     "text": [
      "/mnt/automountdir/gpfs/home/dm9657/Dev/hsamiplus/data/hsami_py_mat.ipynb\n",
      "/mnt/automountdir/gpfs/home/dm9657/Dev/hsamiplus/data/input_bassin1045_20250204.json\n",
      "/mnt/automountdir/gpfs/home/dm9657/Dev/hsamiplus/data/projet.json\n",
      "/mnt/automountdir/gpfs/home/dm9657/Dev/hsamiplus/data/hsami_model_input.ipynb\n",
      "/mnt/automountdir/gpfs/home/dm9657/Dev/hsamiplus/data/projet_exemple.json\n",
      "/mnt/automountdir/gpfs/home/dm9657/Dev/hsamiplus/data/projet_20241107.json\n",
      "/mnt/automountdir/gpfs/home/dm9657/Dev/hsamiplus/data/hasmi_data_20241025.json\n",
      "/mnt/automountdir/gpfs/home/dm9657/Dev/hsamiplus/data/parametres.txt\n",
      "/mnt/automountdir/gpfs/home/dm9657/Dev/hsamiplus/data/bassin_versant_info.txt\n",
      "/mnt/automountdir/gpfs/home/dm9657/Dev/hsamiplus/data/meteo_file.csv\n",
      "/mnt/automountdir/gpfs/home/dm9657/Dev/hsamiplus/data/Bassin1014_mdj_projet.json\n",
      "/mnt/automountdir/gpfs/home/dm9657/Dev/hsamiplus/data/output_04-Feb-2025.json\n",
      "/mnt/automountdir/gpfs/home/dm9657/Dev/hsamiplus/data/hsami_model_output.ipynb\n"
     ]
    }
   ],
   "source": [
    "for p in Path.iterdir(data_dir):\n",
    "    print(p)"
   ]
  },
  {
   "cell_type": "code",
   "execution_count": 7,
   "metadata": {},
   "outputs": [],
   "source": [
    "with Path.open(Path(data_dir) / basin_file) as f:\n",
    "    lines = f.readlines()"
   ]
  },
  {
   "cell_type": "code",
   "execution_count": 8,
   "metadata": {},
   "outputs": [
    {
     "data": {
      "text/plain": [
       "['ID :                     947587\\n',\n",
       " 'memoire :\\t         10\\n',\n",
       " 'nb_pas_par_jour :        1\\n',\n",
       " 'superficie_bv :          2640.0\\n',\n",
       " 'superficie_reservoir :   438.0\\n',\n",
       " 'niveau_reservoir :\\n',\n",
       " 'coeff_reservoir :        -0.0119 52.095 -16814\\n',\n",
       " 'latitude_bv :             47.1943\\n',\n",
       " 'altitude_bv :             390.90\\n',\n",
       " 'pente_bv :                1.8\\n',\n",
       " 'indice_orientation_bv :   1\\n',\n",
       " 'albedo_sol :              0.7\\n',\n",
       " 'occupation_bv : \\t  0.083, 0.503, 0.414\\n',\n",
       " 'occupation_bande :        0.003 0.015 0.043 0.194 0.745\\n',\n",
       " 'altitude_bande :          581 530 479 429 379\\n',\n",
       " 'surface_maximale_mhe :    242.97\\n',\n",
       " 'hydrogramme_surface :     0.41, 0.26, 0.15, 0.08, 0.04, 0.02, 0.01, 0.0, 0.0, 0.0\\n',\n",
       " 'hydrogramme_inter :       0.20, 0.18, 0.15, 0.12, 0.10, 0.08, 0.04, 0.04, 0.03, 0.03\\n',\n",
       " 'fichier_meteo_bv :        meteo_file.csv\\n',\n",
       " 'fichier_meteo_reservoir : meteo_file.csv\\n']"
      ]
     },
     "execution_count": 8,
     "metadata": {},
     "output_type": "execute_result"
    }
   ],
   "source": [
    "lines"
   ]
  },
  {
   "cell_type": "code",
   "execution_count": 9,
   "metadata": {},
   "outputs": [],
   "source": [
    "dict_bv = {}\n",
    "for line in lines:\n",
    "    line_split = line.split(':')\n",
    "    key = line_split[0].strip()\n",
    "    values = re.split(r'[,;\\s+]', line_split[1:][0])\n",
    "    values = [v for v in values if v != '']\n",
    "    if ('.csv' in line) or ('.txt' in line):\n",
    "        dict_bv[key] = values[0]\n",
    "    else:\n",
    "        if key == 'ID':\n",
    "            dict_bv[key] = values[0]\n",
    "        elif len(values) == 1:\n",
    "            dict_bv[key] = float(values[0])\n",
    "        else:\n",
    "            dict_bv[key] = [float(v) for v in values]"
   ]
  },
  {
   "cell_type": "code",
   "execution_count": 28,
   "metadata": {},
   "outputs": [
    {
     "data": {
      "text/plain": [
       "'947587'"
      ]
     },
     "execution_count": 28,
     "metadata": {},
     "output_type": "execute_result"
    }
   ],
   "source": [
    "dict_bv['ID']"
   ]
  },
  {
   "cell_type": "code",
   "execution_count": 29,
   "metadata": {},
   "outputs": [
    {
     "data": {
      "text/plain": [
       "[0.41, 0.26, 0.15, 0.08, 0.04, 0.02, 0.01, 0.0, 0.0, 0.0]"
      ]
     },
     "execution_count": 29,
     "metadata": {},
     "output_type": "execute_result"
    }
   ],
   "source": [
    "dict_bv['hydrogramme_surface']"
   ]
  },
  {
   "cell_type": "markdown",
   "metadata": {},
   "source": [
    "## Meteo"
   ]
  },
  {
   "cell_type": "code",
   "execution_count": 11,
   "metadata": {},
   "outputs": [],
   "source": [
    "with Path.open(Path(data_dir) / meteo_file) as f:\n",
    "    lines_meteo = f.readlines()"
   ]
  },
  {
   "cell_type": "code",
   "execution_count": 12,
   "metadata": {},
   "outputs": [
    {
     "data": {
      "text/plain": [
       "['dates,tmin, tmax, pluie, neige, soleil, een\\n',\n",
       " '1950-01-01,-15.3,-1.9,0.0,0.0,0.5,-1\\n',\n",
       " '1950-01-02,-6.4,1.2,0.3,0.0,0.5,-1\\n',\n",
       " '1950-01-03,-1.8,9.2,0.7,0.0,0.5,-1\\n',\n",
       " '1950-01-04,0.0,7.4,0.1,0.2,0.5,-1\\n',\n",
       " '1950-01-05,-19.1,-13.2,0.0,0.0,0.5,-1\\n',\n",
       " '1950-01-06,-17.8,-9.8,0.0,0.0,0.5,-1\\n',\n",
       " '1950-01-07,-17.0,-10.3,0.0,0.0,0.5,-1\\n',\n",
       " '1950-01-08,-30.1,-16.6,0.0,0.1,0.5,-1\\n',\n",
       " '1950-01-09,-27.7,-7.2,0.0,0.0,0.5,-1\\n']"
      ]
     },
     "execution_count": 12,
     "metadata": {},
     "output_type": "execute_result"
    }
   ],
   "source": [
    "lines_meteo[:10]"
   ]
  },
  {
   "cell_type": "code",
   "execution_count": 13,
   "metadata": {},
   "outputs": [],
   "source": [
    "df_meteo = pd.read_csv(Path(data_dir) / meteo_file, parse_dates=['dates'], index_col='dates')\n",
    "df_meteo.columns = ['tmin', 'tmax', 'pluie', 'neige', 'soleil', 'een']"
   ]
  },
  {
   "cell_type": "code",
   "execution_count": 14,
   "metadata": {},
   "outputs": [
    {
     "data": {
      "text/html": [
       "<div>\n",
       "<style scoped>\n",
       "    .dataframe tbody tr th:only-of-type {\n",
       "        vertical-align: middle;\n",
       "    }\n",
       "\n",
       "    .dataframe tbody tr th {\n",
       "        vertical-align: top;\n",
       "    }\n",
       "\n",
       "    .dataframe thead th {\n",
       "        text-align: right;\n",
       "    }\n",
       "</style>\n",
       "<table border=\"1\" class=\"dataframe\">\n",
       "  <thead>\n",
       "    <tr style=\"text-align: right;\">\n",
       "      <th></th>\n",
       "      <th>tmin</th>\n",
       "      <th>tmax</th>\n",
       "      <th>pluie</th>\n",
       "      <th>neige</th>\n",
       "      <th>soleil</th>\n",
       "      <th>een</th>\n",
       "    </tr>\n",
       "    <tr>\n",
       "      <th>dates</th>\n",
       "      <th></th>\n",
       "      <th></th>\n",
       "      <th></th>\n",
       "      <th></th>\n",
       "      <th></th>\n",
       "      <th></th>\n",
       "    </tr>\n",
       "  </thead>\n",
       "  <tbody>\n",
       "    <tr>\n",
       "      <th>1950-01-01</th>\n",
       "      <td>-15.3</td>\n",
       "      <td>-1.9</td>\n",
       "      <td>0.0</td>\n",
       "      <td>0.0</td>\n",
       "      <td>0.5</td>\n",
       "      <td>-1</td>\n",
       "    </tr>\n",
       "    <tr>\n",
       "      <th>1950-01-02</th>\n",
       "      <td>-6.4</td>\n",
       "      <td>1.2</td>\n",
       "      <td>0.3</td>\n",
       "      <td>0.0</td>\n",
       "      <td>0.5</td>\n",
       "      <td>-1</td>\n",
       "    </tr>\n",
       "    <tr>\n",
       "      <th>1950-01-03</th>\n",
       "      <td>-1.8</td>\n",
       "      <td>9.2</td>\n",
       "      <td>0.7</td>\n",
       "      <td>0.0</td>\n",
       "      <td>0.5</td>\n",
       "      <td>-1</td>\n",
       "    </tr>\n",
       "    <tr>\n",
       "      <th>1950-01-04</th>\n",
       "      <td>0.0</td>\n",
       "      <td>7.4</td>\n",
       "      <td>0.1</td>\n",
       "      <td>0.2</td>\n",
       "      <td>0.5</td>\n",
       "      <td>-1</td>\n",
       "    </tr>\n",
       "    <tr>\n",
       "      <th>1950-01-05</th>\n",
       "      <td>-19.1</td>\n",
       "      <td>-13.2</td>\n",
       "      <td>0.0</td>\n",
       "      <td>0.0</td>\n",
       "      <td>0.5</td>\n",
       "      <td>-1</td>\n",
       "    </tr>\n",
       "  </tbody>\n",
       "</table>\n",
       "</div>"
      ],
      "text/plain": [
       "            tmin  tmax  pluie  neige  soleil  een\n",
       "dates                                            \n",
       "1950-01-01 -15.3  -1.9    0.0    0.0     0.5   -1\n",
       "1950-01-02  -6.4   1.2    0.3    0.0     0.5   -1\n",
       "1950-01-03  -1.8   9.2    0.7    0.0     0.5   -1\n",
       "1950-01-04   0.0   7.4    0.1    0.2     0.5   -1\n",
       "1950-01-05 -19.1 -13.2    0.0    0.0     0.5   -1"
      ]
     },
     "execution_count": 14,
     "metadata": {},
     "output_type": "execute_result"
    }
   ],
   "source": [
    "df_meteo.head()"
   ]
  },
  {
   "cell_type": "code",
   "execution_count": 15,
   "metadata": {},
   "outputs": [
    {
     "data": {
      "text/plain": [
       "<Axes: xlabel='dates'>"
      ]
     },
     "execution_count": 15,
     "metadata": {},
     "output_type": "execute_result"
    },
    {
     "data": {
      "image/png": "[encoded data removed]",
      "text/plain": [
       "<Figure size 640x480 with 1 Axes>"
      ]
     },
     "metadata": {},
     "output_type": "display_data"
    }
   ],
   "source": [
    "df_meteo[['tmin', 'tmax']].plot()"
   ]
  },
  {
   "cell_type": "code",
   "execution_count": 16,
   "metadata": {},
   "outputs": [
    {
     "data": {
      "text/plain": [
       "<Axes: xlabel='dates'>"
      ]
     },
     "execution_count": 16,
     "metadata": {},
     "output_type": "execute_result"
    },
    {
     "data": {
      "image/png": "[encoded data removed]",
      "text/plain": [
       "<Figure size 640x480 with 1 Axes>"
      ]
     },
     "metadata": {},
     "output_type": "display_data"
    }
   ],
   "source": [
    "df_meteo[['pluie', 'neige']].plot()"
   ]
  },
  {
   "cell_type": "markdown",
   "metadata": {},
   "source": [
    "## Parametres"
   ]
  },
  {
   "cell_type": "code",
   "execution_count": 17,
   "metadata": {},
   "outputs": [],
   "source": [
    "with Path.open(Path(data_dir) / param_file) as f:\n",
    "    param = f.readlines()"
   ]
  },
  {
   "cell_type": "code",
   "execution_count": 18,
   "metadata": {},
   "outputs": [
    {
     "data": {
      "text/plain": [
       "['Nom \\t\\t\\t\\tmin \\t\\tdefault \\tmax\\n',\n",
       " 'efficacite_evapo_ete\\t\\t0.5 \\t\\t1.125\\t\\t1.75\\n',\n",
       " 'efficacite_evapo_hiver \\t\\t0 \\t\\t0.1 \\t\\t0.3\\n',\n",
       " 'taux_fonte_jour\\t\\t\\t0.1\\t\\t0.135\\t\\t0.5\\n',\n",
       " 'taux_fonte_nuit\\t\\t\\t0.05\\t\\t0.15\\t\\t0.3\\n',\n",
       " 'temp_fonte_jour\\t\\t\\t-4\\t\\t0\\t\\t4\\n',\n",
       " 'temp_fonte_nuit\\t\\t\\t-4\\t\\t0\\t\\t4\\n',\n",
       " 'temp_ref_pluie\\t\\t\\t-2\\t\\t0\\t\\t2\\n',\n",
       " 'effet_redoux\\t\\t\\t1.1 \\t\\t2.05 \\t\\t3\\n',\n",
       " 'effet_gel\\t\\t\\t1\\t\\t5.5 \\t\\t10\\n']"
      ]
     },
     "execution_count": 18,
     "metadata": {},
     "output_type": "execute_result"
    }
   ],
   "source": [
    "param[:10]"
   ]
  },
  {
   "cell_type": "code",
   "execution_count": 19,
   "metadata": {},
   "outputs": [],
   "source": [
    "df_param = pd.read_csv(Path(data_dir) / param_file,\n",
    "                       header=0, sep=r'\\s+', index_col=0)"
   ]
  },
  {
   "cell_type": "code",
   "execution_count": 20,
   "metadata": {},
   "outputs": [
    {
     "data": {
      "text/html": [
       "<div>\n",
       "<style scoped>\n",
       "    .dataframe tbody tr th:only-of-type {\n",
       "        vertical-align: middle;\n",
       "    }\n",
       "\n",
       "    .dataframe tbody tr th {\n",
       "        vertical-align: top;\n",
       "    }\n",
       "\n",
       "    .dataframe thead th {\n",
       "        text-align: right;\n",
       "    }\n",
       "</style>\n",
       "<table border=\"1\" class=\"dataframe\">\n",
       "  <thead>\n",
       "    <tr style=\"text-align: right;\">\n",
       "      <th></th>\n",
       "      <th>min</th>\n",
       "      <th>default</th>\n",
       "      <th>max</th>\n",
       "    </tr>\n",
       "    <tr>\n",
       "      <th>Nom</th>\n",
       "      <th></th>\n",
       "      <th></th>\n",
       "      <th></th>\n",
       "    </tr>\n",
       "  </thead>\n",
       "  <tbody>\n",
       "    <tr>\n",
       "      <th>efficacite_evapo_ete</th>\n",
       "      <td>0.50</td>\n",
       "      <td>1.125</td>\n",
       "      <td>1.75</td>\n",
       "    </tr>\n",
       "    <tr>\n",
       "      <th>efficacite_evapo_hiver</th>\n",
       "      <td>0.00</td>\n",
       "      <td>0.100</td>\n",
       "      <td>0.30</td>\n",
       "    </tr>\n",
       "    <tr>\n",
       "      <th>taux_fonte_jour</th>\n",
       "      <td>0.10</td>\n",
       "      <td>0.135</td>\n",
       "      <td>0.50</td>\n",
       "    </tr>\n",
       "    <tr>\n",
       "      <th>taux_fonte_nuit</th>\n",
       "      <td>0.05</td>\n",
       "      <td>0.150</td>\n",
       "      <td>0.30</td>\n",
       "    </tr>\n",
       "    <tr>\n",
       "      <th>temp_fonte_jour</th>\n",
       "      <td>-4.00</td>\n",
       "      <td>0.000</td>\n",
       "      <td>4.00</td>\n",
       "    </tr>\n",
       "    <tr>\n",
       "      <th>temp_fonte_nuit</th>\n",
       "      <td>-4.00</td>\n",
       "      <td>0.000</td>\n",
       "      <td>4.00</td>\n",
       "    </tr>\n",
       "    <tr>\n",
       "      <th>temp_ref_pluie</th>\n",
       "      <td>-2.00</td>\n",
       "      <td>0.000</td>\n",
       "      <td>2.00</td>\n",
       "    </tr>\n",
       "    <tr>\n",
       "      <th>effet_redoux</th>\n",
       "      <td>1.10</td>\n",
       "      <td>2.050</td>\n",
       "      <td>3.00</td>\n",
       "    </tr>\n",
       "    <tr>\n",
       "      <th>effet_gel</th>\n",
       "      <td>1.00</td>\n",
       "      <td>5.500</td>\n",
       "      <td>10.00</td>\n",
       "    </tr>\n",
       "    <tr>\n",
       "      <th>effet_sol</th>\n",
       "      <td>5.00</td>\n",
       "      <td>20.000</td>\n",
       "      <td>35.00</td>\n",
       "    </tr>\n",
       "  </tbody>\n",
       "</table>\n",
       "</div>"
      ],
      "text/plain": [
       "                         min  default    max\n",
       "Nom                                         \n",
       "efficacite_evapo_ete    0.50    1.125   1.75\n",
       "efficacite_evapo_hiver  0.00    0.100   0.30\n",
       "taux_fonte_jour         0.10    0.135   0.50\n",
       "taux_fonte_nuit         0.05    0.150   0.30\n",
       "temp_fonte_jour        -4.00    0.000   4.00\n",
       "temp_fonte_nuit        -4.00    0.000   4.00\n",
       "temp_ref_pluie         -2.00    0.000   2.00\n",
       "effet_redoux            1.10    2.050   3.00\n",
       "effet_gel               1.00    5.500  10.00\n",
       "effet_sol               5.00   20.000  35.00"
      ]
     },
     "execution_count": 20,
     "metadata": {},
     "output_type": "execute_result"
    }
   ],
   "source": [
    "df_param.head(10)"
   ]
  },
  {
   "cell_type": "markdown",
   "metadata": {},
   "source": [
    "## Projet"
   ]
  },
  {
   "cell_type": "code",
   "execution_count": 37,
   "metadata": {},
   "outputs": [],
   "source": [
    "from hsamiplus.hsami2_noyau import hsami2_noyau"
   ]
  },
  {
   "cell_type": "code",
   "execution_count": 38,
   "metadata": {},
   "outputs": [
    {
     "name": "stdout",
     "output_type": "stream",
     "text": [
      "Help on function hsami2_noyau in module hsamiplus.hsami2_noyau:\n",
      "\n",
      "hsami2_noyau(projet, etat)\n",
      "    Noyau d'HSAMI pour simule UN SEUL PAS DE TEMPS.\n",
      "\n",
      "    Parameters\n",
      "    ----------\n",
      "    projet : dict\n",
      "        Dictionnaire contenant données d'entrée de HSAMI+.\n",
      "    etat : dict\n",
      "        États du bassin versants et du réservoir.\n",
      "\n",
      "    Returns\n",
      "    -------\n",
      "    s : dict\n",
      "        Sorties de simulation.\n",
      "    etats: dict\n",
      "        États du bassin versants et du réservoir.\n",
      "    deltas: dict\n",
      "        Composants du bilan massique.\n",
      "\n",
      "    Notes\n",
      "    -----\n",
      "    La fonction constitue le noyau d'HSAMI et simule UN SEUL PAS DE TEMPS.\n",
      "    Elle reçoit donc en entrée les états du pas de temps précédent.\n",
      "\n",
      "    projet : un dictionnaire contenant les clés suivantes :\n",
      "        - 'superficie' : superficie(1) : Superficie du bassin versant, incluant le réservoir (km^2, scalaire)\n",
      "            superficie(2) : Superficie moyenne du réservoir (= 0 si non modélisé) (km^2, scalaire).\n",
      "        - 'param' : liste des float, Paramètres pour la simulation.\n",
      "        - 'mémoire' : int, Mémoire utilisée pour les hydrogrammes unitaires (j, scalaire)\n",
      "        - 'physio' : dict, les données physiographiques peuvent être vides.\n",
      "        - 'modules' : dict, les modules pour la simulation peuvent être vides. Les valeurs par défaut sont définies si elles ne sont pas fournies.\n",
      "        - 'meteo' : dict, données météorologiques pour la simulation..\n",
      "        - 'dates' : Date de la journée de la simulation (format datevec, vecteur).\n",
      "        - 'nb_pas_par_jour' : Nombre de pas de temps par jour (scalaire).\n",
      "        - 'pas' : Pas à l'intérieur de la journée (scalaire).\n",
      "\n",
      "    projet['param ']             Paramétres d'HSAMI (scalaires)\n",
      "        param[0] : Efficacité évapo été (adim.)\n",
      "        param[1] : Efficacité évapo hiver (adim.)\n",
      "        param[2] : Taux de fonte jour (cm/degC/j)\n",
      "        param[3] : Taux de fonte nuit (cm/degC/j)\n",
      "        param[4] : Température fonte jour (degC)\n",
      "        param[5] : Température fonte nuit (degC)\n",
      "        param[6] : Température référence pluie (degC)\n",
      "        param[7] : Effet redoux sur aire enneigée (adim.)\n",
      "        param[8] : Effet gel (adim.)\n",
      "        param[9] : Effet sol (adim.)\n",
      "        param[10] : Seuil_min (cm)\n",
      "        param[11] : Sol_min (cm)\n",
      "        param[12] : Sol_max (cm)\n",
      "        param[13] : Nappe_max (cm)\n",
      "        param[14] : Portion ruissellement surface (fraction)\n",
      "        param[15] : Portion ruissellement sol max (fraction)\n",
      "        param[16] : Taux vidange sol (cm/j)\n",
      "        param[17] : Taux vidange nappe (cm/j)\n",
      "        param[18] : Taux vidange inter (cm/j)\n",
      "        param[19] : Mode hydrogramme surface\n",
      "        param[20] : Forme hydrogramme surface\n",
      "        param[21] : Mode hydrogramme intermédiaire\n",
      "        param[22] : Forme hydrogramme intermédiaire\n",
      "        param[23] : Curve Number\n",
      "        param[24] : Puissance de la cond. hydraulique saturée (Ks) de la couche 1 (Ks [=] cm/j)\n",
      "        param[25] : Potentiel matriciel au front mouillant (cm)\n",
      "        param[26] : Coeff. de récession de la nappe\n",
      "        param[27] : Rendement spécifique de la nappe\n",
      "        param[28] : Taux de fonte milieu 1 (coniféres)\n",
      "        param[29] : Taux de fonte milieu 2 (feuillus)\n",
      "        param[30] : Taux de fonte milieu 3 (autres)\n",
      "        param[31] : Température de fonte milieu 1 (coniféres)\n",
      "        param[32] : Température de fonte milieu 2 (feuillus)\n",
      "        param[33] : Température de fonte milieu 3 (autres)\n",
      "        param[34] : Puissance de Ks pour l'infiltration\n",
      "        param[35] : Capacité de retenue de la neige\n",
      "        param[36] : Indice de distribution de la taille des pores (b), couche 1\n",
      "        param[37] : Indice de distribution de la taille des pores (b), couche 2\n",
      "        param[38] : Puissance de K_s, couche 2\n",
      "        param[39] : épaisseur couche 1 (cm)\n",
      "        param[40] : épaisseur couche 2 (cm)\n",
      "        param[41] : Point de flétrissement permanent, couche 1\n",
      "        param[42] : Capacité au champ, couche 1\n",
      "        param[43] : Capacité au champ, couche 2\n",
      "        param[44] : Porosité couche 1\n",
      "        param[45] : Porosité couche 2m\n",
      "        param[46] : Coefficient de Stefan (k)\n",
      "        param[47] : Coefficient pour calcul du volume max du MHE (hmax)\n",
      "        param[48] : Coefficient pour détermination de la surface normale (30 dans HYDROTEL)(p_norm)\n",
      "        param[49] : Puissance de la conductivité hydraulique à saturation à la base du MHE (mm/j)\n",
      "\n",
      "    projet['meteo']['bassin']  Vecteur météo\n",
      "        tmin [cm]\n",
      "        tmax [cm]\n",
      "        pluie [cm]\n",
      "        neige [cm]\n",
      "        soleil [fraction] (optionnel)\n",
      "        een [cm] (optionnel, défaut = -1)\n",
      "\n",
      "        projet['meteo']['reservoir']\n",
      "        ** S'il n'existe aucune météo au réservoir, celle  du bassin est utilisée. **\n",
      "        Vecteur météo :\n",
      "        tmin [cm]\n",
      "        tmax [cm]\n",
      "        pluie [cm]\n",
      "        neige [cm]\n",
      "        soleil [fraction] (optionnel)\n",
      "\n",
      "    projet['modules']            Structure spécifiant les modules é utiliser\n",
      "        etp_bassin :\n",
      "        'hsami' (défaut)\n",
      "        'blaney_criddle'\n",
      "        'hamon'\n",
      "        'linacre'\n",
      "        'kharrufa'\n",
      "        'mohyse'\n",
      "        'romanenko'\n",
      "        'makkink'\n",
      "        'turc'\n",
      "        'mcguinness_bordne'\n",
      "        'abtew'\n",
      "        'hargreaves'\n",
      "        'priestley-taylor'\n",
      "\n",
      "        etp_reservoir :\n",
      "        'hsami' (défaut)\n",
      "        'blaney_criddle'\n",
      "        'hamon'\n",
      "        'linacre'\n",
      "        'kharrufa'\n",
      "        'mohyse'\n",
      "        'romanenko'\n",
      "        'makkink'\n",
      "        'turc'\n",
      "        'mcguinness_bordne'\n",
      "        'abtew'\n",
      "        'hargreaves'\n",
      "        'priestley-taylor'\n",
      "\n",
      "        een :\n",
      "        'hsami' (défaut)\n",
      "        'dj'\n",
      "        'mdj'\n",
      "        'alt'\n",
      "\n",
      "        infiltration :\n",
      "        'hsami' (défaut)\n",
      "        'green_ampt'\n",
      "        'scs_cn'\n",
      "\n",
      "        sol :\n",
      "        'hsami' (défaut)\n",
      "        '3couches'\n",
      "\n",
      "        qbase :\n",
      "        'hsami' (défaut)\n",
      "        'dingman'\n",
      "\n",
      "        radiation :\n",
      "        'hsami' (défaut)\n",
      "        'mdj'\n",
      "\n",
      "        mhumide:\n",
      "        0  (défaut)\n",
      "        1\n",
      "\n",
      "        reservoir :\n",
      "        0 (défaut)\n",
      "        1\n",
      "\n",
      "        glace_reservoir :\n",
      "        0 (défaut)\n",
      "        'stefan'\n",
      "        'mylake'\n",
      "\n",
      "    physio :     Structure contenant des variables physiographiques du bassin\n",
      "        Toutes les variables physiographiques peuvent étre facultatives, dépamment des modules utilisés.\n",
      "        - latitude :         Latitude moyenne (degrés, scalaire)\n",
      "        - altitude :         Altitude moyenne (m, scalaire)\n",
      "        - albedo_sol :       Albédo du sol (fraction décimale, scalaire)\n",
      "        - i_orientation_bv : Indice d'orientation\n",
      "        - pente_bv :         Pente moyenne (degrés, scalaire)\n",
      "        - occupation :       Fractions d'occupation des milieux (fraction, vecteur de 1x2 ou 1x3)\n",
      "        - niveau :           Niveau du réservoir (m, scalaire)\n",
      "        - coeff :            Coefficients de l'équation de la courbe d'emmagasinement (vecteur 1 x 3)\n",
      "        - samax :            Surface maximale du MHE (km2, scalaire)\n",
      "        - occupation_bande : Pourcentage d'occupation par bande d'altitude\n",
      "        - altitude_bande :   Altitude de chaque bande\n",
      "\n",
      "    etat : états du bassin versants et du réservoir\n",
      "        - etat['eau_hydrogrammes']            : Eau en transit dans les HU (cm, matrice de mémoire x 2, ou mémoire x 3 si module['mhumide'] = 1)\n",
      "        - etat['neige_au_sol ']               : équivalent en eau de la neige au bassin versant (cm, scalaire)\n",
      "        - etat['fonte']                       : Eau libre dans la neige (cm, scalaire)\n",
      "        - etat['nas_tot']                     : Neige au sol totale (cm, scalaire)\n",
      "        - etat['fonte_tot']                   : Fonte totale (cm, scalaire)\n",
      "        - etat['derniere_neige']              : Nombre de jours depuis la derniére neige (j, scalaire)\n",
      "        - etat['gel']                         : Eau gelée dans le sol (cm, scalaire)\n",
      "        - etat['sol']                         : Eau dans la zone non saturée (cm, vecteur de 1x2 si modules['sol = '3couches')\n",
      "        - etat['nappe']                       : Eau dans la zone saturée (cm, scalaire)\n",
      "        - etat['reserve']                     : Eau dans la réserve intermédiaire (cm, scalaire)\n",
      "        - etat['mdj']['couvert_neige']        : Hauteur du couvert de neige dans les 2 ou 3 milieux (m, vecteur de la même\n",
      "                                                taille que physio.occupation)\n",
      "        - etat['mdj']['densite_neige']        : Densité du couvert de neige (fraction décimale, vecteur de la même taille que physio.occupation)\n",
      "        - etat['mdj']['albedo_neige']         : Albédo de la neige (fraction, vecteur de la même taille que physio.occupation)\n",
      "        - etat['mdj']['neige_au_sol']         : équivalent en eau de la neige (m, vecteur de la même taille que physio.occupation)\n",
      "        - etat['mdj']['fonte']                : Eau libre dans la neige (m, vecteur de la même taille que physio.occupation)\n",
      "        - etat['mdj']['gel']                  : Eau gelée dans le sol (cm, vecteur de la même taille que physio.occupation)\n",
      "        - etat['mdj']['sol']                  : Eau dans la zone non saturée (cm, vecteur de la même taille que physio.occupation)\n",
      "        - etat['mdj']['energie_neige']        : Bilan énergétique de la neige (J/m2, vecteur de la même taille que physio.occupation)\n",
      "        - etat['mdj']['energie_glace']        : Bilan énergétique de la glace (J/m2, scalaire)\n",
      "        - etat['alt']['couvert_neige']        : Hauteur du couvert de neige dans les 2 ou 3 milieux (m, vecteur de la même taille\n",
      "                                                que physio.occupation_bande)\n",
      "        - etat['alt']['densite_neige']        : Densité du couvert de neige (fraction décimale, vecteur de la même taille\n",
      "                                                que physio.occupation_bande)\n",
      "        - etat['alt']['albedo_neige']         : Albédo de la neige (fraction, vecteur de la même taille que physio.occupation_bande)\n",
      "        - etat['alt']['neige_au_sol']         : équivalent en eau de la neige (m, vecteur de la même taille que physio.occupation_bande)\n",
      "        - etat['alt']['fonte']                : Eau libre dans la neige (m, vecteur de la même taille que physio.occupation_bande)\n",
      "        - etat['alt']['gel']                  : Eau gelée dans le sol (cm, vecteur de la même taille que physio.occupation_bande)\n",
      "        - etat['alt']['sol']                  : Eau dans la zone non saturée (cm, vecteur de la même taille que physio.occupation_bande)\n",
      "        - etat['alt']['energie_neige']        : Bilan énergétique de la neige (J/m2, vecteur de la même taille que physio.occupation_bande)\n",
      "        - etat['alt']['energie_glace']        : Bilan énergétique de la glace (J/m2, scalaire)\n",
      "        - etat['mh_vol']                      : Volume du milieu humide (m3, scalaire)\n",
      "        - etat['ratio_MH']                    : Ratio du milieu humide dans le bassin versant (fraction décimale, scalaire)\n",
      "        - etat['mh_surf']                     : Superficie du milieu humide (ha, scalaire)\n",
      "        - etat['mhumide']                     : Lame d'eau du milieu humide (cm, scalaire)\n",
      "        - etat['ratio_qbase']                 : Ratio du debit de base provenant du milieu humide (fraction décimale, scalaire)\n",
      "        - etat['cumdegGel']                   : Cumulatif de degrés-jour de gel (degC, scalaire)\n",
      "        - etat['obj_gel']                     : Objectif de degrés-jour de gel (degC, scalaire)\n",
      "        - etat['dernier_gel']                 : Nombre de jour depuis le dernier gel (j, scalaire)\n",
      "        - etat['reservoir_epaisseur_glace']   : épaisseur de la glace sur le réservoir (cm, scalaire)\n",
      "        - etat['reservoir_energie_glace']     : Bilan énergétique de la glace sur le réservoir (J/m2, scalaire)\n",
      "        - etat['reservoir_superficie']        : Superficie du réservoir (km2, scalaire)\n",
      "        - etat['reservoir_superficie_glace']  : Superficie de berges avec de la glace déposée (km2, scalaire)\n",
      "        - etat['reservoir_superficie_ref']    : Superficie de référence en début d'hiver (km2, scalaire)\n",
      "        - etat['eeg']                         : équivalent en eau de la glace déposée en berges (cm, vecteur de 3000x1)\n",
      "        - etat['ratio_bassin']                : Fraction de la superficie occupée par la partie terrestre du bassin versant\n",
      "                                                (fraction décimale, scalaire)\n",
      "        - etat['ratio_reservoir']             : Fraction de la superficie occupée par le réservoir (fraction décimale, scalaire)\n",
      "        - etat['ratio_fixe']                  : Fraction de la superficie occupée par la partie terrestre pour le calcul des processus\n",
      "                                                souterrains (fraction décimale, scalaire)\n",
      "\n",
      "    s\n",
      "        s['Qtotal']\n",
      "        s['Qbase']\n",
      "        s['Qinter']\n",
      "        s['Qsurf']\n",
      "        s['Qreservoir']\n",
      "        s['Qglace']\n",
      "        s['Qmh']\n",
      "        s['ETP']\n",
      "        s['ETRtotal']\n",
      "        s['ETRsublim']\n",
      "        s['ETRPsurN']\n",
      "        s['ETRintercept']\n",
      "        s['ETRtranspir']\n",
      "        s['ETRreservoir']\n",
      "        s['ETRmhumide']\n",
      "\n",
      "    delta   : fermeture du bilan hydrologique pour la fonction principale et les sous-fonctions\n",
      "        - delta['total']         : Fermeture de la fonction principale (cm, scalaire)\n",
      "        - delta['glace']         : Fermeture de la fonction hsami_glace (cm, scalaire)\n",
      "        - delta['interception']  : Fermeture de la fonction hsami_interception (cm, scalaire)\n",
      "        - delta['ruissellement'] : Fermeture de la fonction hsami_ruissellement (cm, scalaire)\n",
      "        - delta['vertical']      : Fermeture de la fonction hsami_ecoulement_vertical (cm, scalaire)\n",
      "        - delta['horizontal']    : Fermeture de la fonction hsami_ecoulement_horizontal (cm, scalaire)\n",
      "        - delta['mhumide']       : Fermeture de la fonction hsami_mhumide (cm, scalaire)\n",
      "\n"
     ]
    }
   ],
   "source": [
    "help(hsami2_noyau)"
   ]
  },
  {
   "cell_type": "markdown",
   "metadata": {},
   "source": [
    "### Structure de projet.json"
   ]
  },
  {
   "cell_type": "code",
   "execution_count": 39,
   "metadata": {},
   "outputs": [],
   "source": [
    "filename = 'projet.json'\n",
    "\n",
    "with Path.open(Path(data_dir) / filename) as file:\n",
    "    projet = json.load(file)"
   ]
  },
  {
   "cell_type": "code",
   "execution_count": 40,
   "metadata": {},
   "outputs": [
    {
     "data": {
      "text/plain": [
       "dict_keys(['id', 'modules', 'superficie', 'dates', 'meteo', 'physio', 'memoire', 'nb_pas_par_jour', 'param', 'hu_surface', 'hu_inter'])"
      ]
     },
     "execution_count": 40,
     "metadata": {},
     "output_type": "execute_result"
    }
   ],
   "source": [
    "projet.keys()"
   ]
  },
  {
   "cell_type": "code",
   "execution_count": 41,
   "metadata": {},
   "outputs": [
    {
     "data": {
      "text/plain": [
       "'947587'"
      ]
     },
     "execution_count": 41,
     "metadata": {},
     "output_type": "execute_result"
    }
   ],
   "source": [
    "projet['id']"
   ]
  },
  {
   "cell_type": "markdown",
   "metadata": {},
   "source": [
    "#### Modules"
   ]
  },
  {
   "cell_type": "code",
   "execution_count": 44,
   "metadata": {},
   "outputs": [
    {
     "data": {
      "text/plain": [
       "{'etp_bassin': 'hsami',\n",
       " 'etp_reservoir': 'hsami',\n",
       " 'een': 'hsami',\n",
       " 'radiation': 'hsami',\n",
       " 'infiltration': 'hsami',\n",
       " 'sol': 'hsami',\n",
       " 'qbase': 'hsami',\n",
       " 'mhumide': 1,\n",
       " 'reservoir': 0,\n",
       " 'glace_reservoir': 'stefan'}"
      ]
     },
     "execution_count": 44,
     "metadata": {},
     "output_type": "execute_result"
    }
   ],
   "source": [
    "projet['modules']"
   ]
  },
  {
   "cell_type": "markdown",
   "metadata": {},
   "source": [
    "### physio "
   ]
  },
  {
   "cell_type": "code",
   "execution_count": 47,
   "metadata": {},
   "outputs": [
    {
     "data": {
      "text/plain": [
       "dict_keys(['altitude', 'latitude', 'pente_bv', 'occupation', 'niveau', 'coeff', 'occupation_bande', 'altitude_bande', 'samax', 'albedo_sol'])"
      ]
     },
     "execution_count": 47,
     "metadata": {},
     "output_type": "execute_result"
    }
   ],
   "source": [
    "projet['physio'].keys()"
   ]
  },
  {
   "cell_type": "code",
   "execution_count": 48,
   "metadata": {},
   "outputs": [
    {
     "data": {
      "text/plain": [
       "[0.083, 0.503, 0.414]"
      ]
     },
     "execution_count": 48,
     "metadata": {},
     "output_type": "execute_result"
    }
   ],
   "source": [
    "projet['physio']['occupation']"
   ]
  },
  {
   "cell_type": "code",
   "execution_count": null,
   "metadata": {},
   "outputs": [
    {
     "data": {
      "text/plain": [
       "[2640, 438]"
      ]
     },
     "execution_count": 148,
     "metadata": {},
     "output_type": "execute_result"
    }
   ],
   "source": [
    "projet['superficie']"
   ]
  },
  {
   "cell_type": "code",
   "execution_count": null,
   "metadata": {},
   "outputs": [
    {
     "data": {
      "text/plain": [
       "1"
      ]
     },
     "execution_count": 149,
     "metadata": {},
     "output_type": "execute_result"
    }
   ],
   "source": [
    "projet['nb_pas_par_jour']"
   ]
  },
  {
   "cell_type": "markdown",
   "metadata": {},
   "source": [
    "#### Paramétres"
   ]
  },
  {
   "cell_type": "code",
   "execution_count": 49,
   "metadata": {},
   "outputs": [
    {
     "data": {
      "text/plain": [
       "[0.5, 0, 0.1, 0.05, -4, -4, -2, 1.1, 1, 5]"
      ]
     },
     "execution_count": 49,
     "metadata": {},
     "output_type": "execute_result"
    }
   ],
   "source": [
    "projet['param'][:10]"
   ]
  },
  {
   "cell_type": "code",
   "execution_count": 50,
   "metadata": {},
   "outputs": [
    {
     "data": {
      "text/plain": [
       "[[-15.3, -1.9, 0, 0, 0.5, -1],\n",
       " [-6.4, 1.2, 0.3, 0, 0.5, -1],\n",
       " [-1.8, 9.2, 0.7, 0, 0.5, -1],\n",
       " [0, 7.4, 0.1, 0.2, 0.5, -1],\n",
       " [-19.1, -13.2, 0, 0, 0.5, -1],\n",
       " [-17.8, -9.8, 0, 0, 0.5, -1],\n",
       " [-17, -10.3, 0, 0, 0.5, -1],\n",
       " [-30.1, -16.6, 0, 0.1, 0.5, -1],\n",
       " [-27.7, -7.2, 0, 0, 0.5, -1],\n",
       " [-16.2, 2.4, 0.3, 0, 0.5, -1]]"
      ]
     },
     "execution_count": 50,
     "metadata": {},
     "output_type": "execute_result"
    }
   ],
   "source": [
    "projet['meteo']['bassin'][:10]"
   ]
  },
  {
   "cell_type": "code",
   "execution_count": 51,
   "metadata": {},
   "outputs": [
    {
     "data": {
      "text/plain": [
       "[[1950, 1, 1, 0, 0, 0],\n",
       " [1950, 1, 2, 0, 0, 0],\n",
       " [1950, 1, 3, 0, 0, 0],\n",
       " [1950, 1, 4, 0, 0, 0],\n",
       " [1950, 1, 5, 0, 0, 0],\n",
       " [1950, 1, 6, 0, 0, 0],\n",
       " [1950, 1, 7, 0, 0, 0],\n",
       " [1950, 1, 8, 0, 0, 0],\n",
       " [1950, 1, 9, 0, 0, 0],\n",
       " [1950, 1, 10, 0, 0, 0]]"
      ]
     },
     "execution_count": 51,
     "metadata": {},
     "output_type": "execute_result"
    }
   ],
   "source": [
    "projet['dates'][:10]"
   ]
  },
  {
   "cell_type": "code",
   "execution_count": 52,
   "metadata": {},
   "outputs": [],
   "source": [
    "dates = pd.DatetimeIndex([pd.Timestamp(*dt) for dt in projet['dates']])"
   ]
  },
  {
   "cell_type": "markdown",
   "metadata": {},
   "source": [
    "### Créer le fichier projet.json"
   ]
  },
  {
   "cell_type": "code",
   "execution_count": 53,
   "metadata": {},
   "outputs": [],
   "source": [
    "basin_file = \"bassin_versant_info.txt\"\n",
    "param_file = \"parametres.txt\"\n",
    "meteo_file = \"meteo_file.csv\"\n",
    "projet_file = \"projet_exemple.json\""
   ]
  },
  {
   "cell_type": "code",
   "execution_count": 54,
   "metadata": {},
   "outputs": [
    {
     "ename": "NameError",
     "evalue": "name 'make_project' is not defined",
     "output_type": "error",
     "traceback": [
      "\u001b[0;31m---------------------------------------------------------------------------\u001b[0m",
      "\u001b[0;31mNameError\u001b[0m                                 Traceback (most recent call last)",
      "Cell \u001b[0;32mIn[54], line 1\u001b[0m\n\u001b[0;32m----> 1\u001b[0m \u001b[43mmake_project\u001b[49m(data_dir, basin_file, param_file, projet_file)\n",
      "\u001b[0;31mNameError\u001b[0m: name 'make_project' is not defined"
     ]
    }
   ],
   "source": [
    "make_project(data_dir, basin_file, param_file, projet_file)"
   ]
  },
  {
   "cell_type": "code",
   "execution_count": null,
   "metadata": {},
   "outputs": [],
   "source": [
    "with Path.open(Path(data_dir) / projet_file) as file:\n",
    "    projet_exemple = json.load(file)"
   ]
  },
  {
   "cell_type": "code",
   "execution_count": null,
   "metadata": {},
   "outputs": [
    {
     "data": {
      "text/plain": [
       "dict_keys(['id', 'nb_pas_par_jour', 'memoire', 'superficie', 'modules', 'param', 'physio', 'meteo', 'dates'])"
      ]
     },
     "execution_count": 142,
     "metadata": {},
     "output_type": "execute_result"
    }
   ],
   "source": [
    "projet_exemple.keys()"
   ]
  },
  {
   "cell_type": "code",
   "execution_count": null,
   "metadata": {},
   "outputs": [
    {
     "data": {
      "text/plain": [
       "{'een': 'dj',\n",
       " 'etp_bassin': 'priestley_taylor',\n",
       " 'etp_reservoir': 'priestley_taylor',\n",
       " 'glace_reservoir': 'stefan',\n",
       " 'infiltration': 'green_ampt',\n",
       " 'mhumide': 1,\n",
       " 'qbase': 'dingman',\n",
       " 'radiation': ' mdj',\n",
       " 'reservoir': 1,\n",
       " 'sol': '3couches'}"
      ]
     },
     "execution_count": 143,
     "metadata": {},
     "output_type": "execute_result"
    }
   ],
   "source": [
    "projet_exemple['modules']"
   ]
  },
  {
   "cell_type": "code",
   "execution_count": null,
   "metadata": {},
   "outputs": [
    {
     "data": {
      "text/plain": [
       "[[-15.3, -1.9, 0.0, 0.0, 0.5, -1.0],\n",
       " [-6.4, 1.2, 0.3, 0.0, 0.5, -1.0],\n",
       " [-1.8, 9.2, 0.7, 0.0, 0.5, -1.0],\n",
       " [0.0, 7.4, 0.1, 0.2, 0.5, -1.0],\n",
       " [-19.1, -13.2, 0.0, 0.0, 0.5, -1.0],\n",
       " [-17.8, -9.8, 0.0, 0.0, 0.5, -1.0],\n",
       " [-17.0, -10.3, 0.0, 0.0, 0.5, -1.0],\n",
       " [-30.1, -16.6, 0.0, 0.1, 0.5, -1.0],\n",
       " [-27.7, -7.2, 0.0, 0.0, 0.5, -1.0],\n",
       " [-16.2, 2.4, 0.3, 0.0, 0.5, -1.0]]"
      ]
     },
     "execution_count": 144,
     "metadata": {},
     "output_type": "execute_result"
    }
   ],
   "source": [
    "projet_exemple['meteo']['bassin'][:10]"
   ]
  }
 ],
 "metadata": {
  "kernelspec": {
   "display_name": "hsamiplus-dev",
   "language": "python",
   "name": "python3"
  },
  "language_info": {
   "codemirror_mode": {
    "name": "ipython",
    "version": 3
   },
   "file_extension": ".py",
   "mimetype": "text/x-python",
   "name": "python",
   "nbconvert_exporter": "python",
   "pygments_lexer": "ipython3",
   "version": "3.12.7"
  }
 },
 "nbformat": 4,
 "nbformat_minor": 2
}
